{
 "cells": [
  {
   "cell_type": "code",
   "execution_count": 2,
   "metadata": {},
   "outputs": [
    {
     "name": "stdout",
     "output_type": "stream",
     "text": [
      "               x           y      scale  laplacian\n",
      "0      89.381842   12.493189   1.993673          1\n",
      "1      39.911540   13.065093   1.755121          1\n",
      "2     166.237555   13.527541   2.157782          1\n",
      "3     127.439911   16.158078   1.890579          1\n",
      "4     560.442278   15.480869   1.963632          1\n",
      "...          ...         ...        ...        ...\n",
      "2210  571.294237  240.975604  22.418324          1\n",
      "2211  659.274721  310.975948  31.114519          0\n",
      "2212  744.297038  423.583739  22.552874          0\n",
      "2213  704.730357  487.761479  23.474740          0\n",
      "2214  349.028332  248.506887  39.409988          0\n",
      "\n",
      "[2215 rows x 4 columns]\n"
     ]
    }
   ],
   "source": [
    "import pandas as pd\n",
    "data = pd.read_csv(\"ROI.csv\")\n",
    "print(data)"
   ]
  },
  {
   "cell_type": "code",
   "execution_count": 7,
   "metadata": {},
   "outputs": [
    {
     "name": "stdout",
     "output_type": "stream",
     "text": [
      "39.91154031\n"
     ]
    }
   ],
   "source": [
    "print(data.x[1].item())"
   ]
  },
  {
   "cell_type": "code",
   "execution_count": 9,
   "metadata": {},
   "outputs": [
    {
     "name": "stdout",
     "output_type": "stream",
     "text": [
      "1625\n",
      "349.02833230000005\n",
      "248.506887\n",
      "39.40998843\n",
      "0\n"
     ]
    }
   ],
   "source": [
    "sum = 100\n",
    "index = 0\n",
    "for i in range(len(data)):\n",
    "    if abs(data.x[i].item() - 525)+abs(data.y[i].item() - 419) < sum:\n",
    "        sum = abs(data.x[i].item() - 525)+abs(data.y[i].item() - 419)\n",
    "        index = i\n",
    "print(index)\n",
    "print(data.x[i].item())\n",
    "print(data.y[i].item())\n",
    "print(data.scale[i].item())\n",
    "print(data.laplacian[i].item())"
   ]
  }
 ],
 "metadata": {
  "kernelspec": {
   "display_name": "Python 3",
   "language": "python",
   "name": "python3"
  },
  "language_info": {
   "codemirror_mode": {
    "name": "ipython",
    "version": 3
   },
   "file_extension": ".py",
   "mimetype": "text/x-python",
   "name": "python",
   "nbconvert_exporter": "python",
   "pygments_lexer": "ipython3",
   "version": "3.7.6"
  },
  "toc": {
   "base_numbering": 1,
   "nav_menu": {},
   "number_sections": true,
   "sideBar": true,
   "skip_h1_title": false,
   "title_cell": "Table of Contents",
   "title_sidebar": "Contents",
   "toc_cell": false,
   "toc_position": {},
   "toc_section_display": true,
   "toc_window_display": false
  }
 },
 "nbformat": 4,
 "nbformat_minor": 4
}
